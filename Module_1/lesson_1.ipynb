{
 "cells": [
  {
   "cell_type": "code",
   "execution_count": 11,
   "id": "d0b82412",
   "metadata": {},
   "outputs": [
    {
     "name": "stdout",
     "output_type": "stream",
     "text": [
      "Edit the duration103000\n",
      "1 дн 4 ч 36 мин 40 сек\n"
     ]
    }
   ],
   "source": [
    "min_1 = 60\n",
    "hour_1 = 3600\n",
    "day_1 = 3600*24\n",
    "\n",
    "\n",
    "def data_time(sec):\n",
    "    \n",
    "    # Вывод до минуты:\n",
    "    if sec < min_1:\n",
    "        return (sec, 'secands')\n",
    "    \n",
    "    # Вывод до часа:\n",
    "    elif min_1 <= sec < hour_1:\n",
    "        minuts = sec // 60  # целое от деления\n",
    "        sec = sec % min_1\n",
    "        return ('{} мин {} сек'.format(minuts, sec))\n",
    "    \n",
    "    # Вывод до дня:\n",
    "    elif  hour_1 <= sec < day_1:\n",
    "        hours = sec // 3600\n",
    "        sec %= hour_1\n",
    "        minuts = sec // min_1\n",
    "        sec = sec % min_1\n",
    "        return ('{} ч {} мин {} сек'.format(hours, minuts, sec))\n",
    "    \n",
    "    # Вывод до года:\n",
    "    elif sec >= day_1:\n",
    "        days = sec // day_1\n",
    "        sec %= day_1\n",
    "        hours = sec // hour_1\n",
    "        sec %= hour_1\n",
    "        minuts = sec // min_1\n",
    "        sec %= min_1\n",
    "        return ('{} дн {} ч {} мин {} сек'.format(days, hours, minuts, sec))\n",
    "\n",
    "duration = int(input('Edit the duration '))\n",
    "print(data_time(duration))"
   ]
  },
  {
   "cell_type": "code",
   "execution_count": null,
   "id": "435ca7b9",
   "metadata": {},
   "outputs": [],
   "source": []
  },
  {
   "cell_type": "code",
   "execution_count": null,
   "id": "c23f9f59",
   "metadata": {},
   "outputs": [],
   "source": []
  },
  {
   "cell_type": "code",
   "execution_count": null,
   "id": "d5b9ceb1",
   "metadata": {},
   "outputs": [],
   "source": []
  },
  {
   "cell_type": "code",
   "execution_count": null,
   "id": "67cb56ff",
   "metadata": {},
   "outputs": [],
   "source": []
  },
  {
   "cell_type": "code",
   "execution_count": null,
   "id": "2cb94e1f",
   "metadata": {},
   "outputs": [],
   "source": []
  },
  {
   "cell_type": "code",
   "execution_count": null,
   "id": "d6ca175a",
   "metadata": {},
   "outputs": [],
   "source": []
  },
  {
   "cell_type": "code",
   "execution_count": null,
   "id": "bba742a5",
   "metadata": {},
   "outputs": [],
   "source": []
  },
  {
   "cell_type": "code",
   "execution_count": 3,
   "id": "aec6a600",
   "metadata": {},
   "outputs": [
    {
     "data": {
      "text/plain": [
       "86400"
      ]
     },
     "execution_count": 3,
     "metadata": {},
     "output_type": "execute_result"
    }
   ],
   "source": [
    "3600*24"
   ]
  },
  {
   "cell_type": "code",
   "execution_count": null,
   "id": "cf70d9b9",
   "metadata": {},
   "outputs": [],
   "source": []
  },
  {
   "cell_type": "code",
   "execution_count": null,
   "id": "2fd16edb",
   "metadata": {},
   "outputs": [],
   "source": []
  }
 ],
 "metadata": {
  "kernelspec": {
   "display_name": "Python 3",
   "language": "python",
   "name": "python3"
  },
  "language_info": {
   "codemirror_mode": {
    "name": "ipython",
    "version": 3
   },
   "file_extension": ".py",
   "mimetype": "text/x-python",
   "name": "python",
   "nbconvert_exporter": "python",
   "pygments_lexer": "ipython3",
   "version": "3.8.8"
  }
 },
 "nbformat": 4,
 "nbformat_minor": 5
}
