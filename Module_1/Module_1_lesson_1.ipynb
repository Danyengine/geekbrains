{
 "cells": [
  {
   "cell_type": "code",
   "execution_count": 106,
   "id": "2de010a6",
   "metadata": {},
   "outputs": [
    {
     "name": "stdout",
     "output_type": "stream",
     "text": [
      "Введите текущее время в секундах: 444777\n",
      "\n",
      " 5 дн 3 ч 32 мин 57 сек\n"
     ]
    }
   ],
   "source": [
    "'''\n",
    "Реализовать вывод информации о промежутке времени в зависимости от его\n",
    "продолжительности duration в секундах: до минуты:\n",
    "<s> сек; до часа: <m> мин <s> сек; до суток: <h> час <m> мин <s> сек;\n",
    "* в остальных случаях: <d> дн <h> час <m> мин <s> сек.\n",
    "'''\n",
    "\n",
    "min_1 = 60\n",
    "hour_1 = 3600\n",
    "day_1 = 3600*24\n",
    "\n",
    "\n",
    "def data_time(sec):\n",
    "    \n",
    "    # Вывод до минуты:\n",
    "    if sec < min_1:\n",
    "        return (sec, 'secands')\n",
    "    \n",
    "    # Вывод до часа:\n",
    "    elif min_1 <= sec < hour_1:\n",
    "        minuts = sec // 60  # целое от деления\n",
    "        sec = sec % min_1\n",
    "        return ('{} мин {} сек'.format(minuts, sec))\n",
    "    \n",
    "    # Вывод до дня:\n",
    "    elif  hour_1 <= sec < day_1:\n",
    "        hours = sec // 3600\n",
    "        sec %= hour_1\n",
    "        minuts = sec // min_1\n",
    "        sec = sec % min_1\n",
    "        return ('{} ч {} мин {} сек'.format(hours, minuts, sec))\n",
    "    \n",
    "    # Вывод до года:\n",
    "    elif sec >= day_1:\n",
    "        days = sec // day_1\n",
    "        sec %= day_1\n",
    "        hours = sec // hour_1\n",
    "        sec %= hour_1\n",
    "        minuts = sec // min_1\n",
    "        sec %= min_1\n",
    "        return ('{} дн {} ч {} мин {} сек'.format(days, hours, minuts, sec))\n",
    "\n",
    "duration = int(input('Введите текущее время в секундах: '))\n",
    "print('\\n',data_time(duration))"
   ]
  },
  {
   "cell_type": "code",
   "execution_count": null,
   "id": "b967004d",
   "metadata": {},
   "outputs": [],
   "source": []
  },
  {
   "cell_type": "code",
   "execution_count": null,
   "id": "40e08463",
   "metadata": {},
   "outputs": [],
   "source": []
  },
  {
   "cell_type": "code",
   "execution_count": 107,
   "id": "9a9d1563",
   "metadata": {},
   "outputs": [
    {
     "name": "stdout",
     "output_type": "stream",
     "text": [
      "Какое добавить число? 17\n",
      "\n",
      " 15392909930\n"
     ]
    }
   ],
   "source": [
    "\n",
    "'''\n",
    "Создать список, состоящий из кубов нечётных чисел от 1 до 1000\n",
    "'''\n",
    "\n",
    "# method generetor (list comprehension):\n",
    "#cube_lst = [i**3 for i in range(1,1001) if i % 2 != 0]\n",
    "\n",
    "\n",
    "\n",
    "#cube_lst = []            # Create empty list\n",
    "#for x in range(1,1001):\n",
    "   # if x % 2 != 0:       # uneven numbers\n",
    "    #    cube_lst.append(x**3)\n",
    "\n",
    "'''\n",
    "Вычислить сумму тех чисел из этого списка, сумма цифр которых делится нацело на 7\n",
    "'''\n",
    "# method generetor (list comprehension):\n",
    "\n",
    "#cube_lst = [i**3 for i in range(1,1001) if i % 2 != 0]\n",
    "\n",
    "\n",
    "# method circle for + condition if\n",
    "\n",
    "cube_lst = []    # list of uneven numbers cubed\n",
    "\n",
    "for num in range(1,1001):\n",
    "    if num % 2 != 0:\n",
    "        cube_lst.append(num**3)\n",
    "\n",
    "\n",
    "\n",
    "cube_even_7 = [] # list of numbers that (% 7 == 0)\n",
    "\n",
    "\n",
    "for i in range(len(cube_lst)):\n",
    "\n",
    "    num = cube_lst[i]\n",
    "    sum_digits = 0     # сумма цифр i-го числа\n",
    "    while num != 0:\n",
    "        sum_digits += num%10\n",
    "        num //=10\n",
    "    if sum_digits % 7 == 0:\n",
    "        cube_even_7.append(cube_lst[i])\n",
    "\n",
    "\n",
    "# Сумма чисел, нацело делящиеся на 7\n",
    "sum_num_even_7 = 0\n",
    "for num in cube_even_7:\n",
    "    sum_num_even_7 += num\n",
    "    \n",
    "print(sum_num_even_7)\n",
    "\n",
    "\n",
    "'''\n",
    "К каждому элементу списка добавить 17 и заново вычислить сумму тех чисел из этого списка,\n",
    "сумма цифр которых делится нацело на 7.\n",
    "'''\n",
    "# Чтобы можно было реализовать данный алгоритм\n",
    "# можно каждый раз выполнять через функцию\n",
    "\n",
    "def sum_digits_7(num_list,value):\n",
    "    list_cube_7 = []\n",
    "    sum_num_even_7 = 0\n",
    "    for i in range(len(num_list)):\n",
    "        num = num_list[i] + value\n",
    "        sum_digits = 0\n",
    "        \n",
    "        while num != 0:\n",
    "            sum_digits += num % 10\n",
    "            num //= 10\n",
    "        if sum_digits % 7 == 0:\n",
    "            list_cube_7.append(num_list[i] + value)\n",
    "            \n",
    "    for numbers in list_cube_7:\n",
    "        sum_num_even_7 += numbers\n",
    "    return (sum_num_even_7)\n",
    "    \n",
    "\n",
    "value = int(input('Какое добавить число? '))\n",
    "\n",
    "print('\\n',sum_digits_7(cube_lst, value))\n",
    "\n"
   ]
  },
  {
   "cell_type": "code",
   "execution_count": null,
   "id": "42d1e060",
   "metadata": {},
   "outputs": [],
   "source": []
  },
  {
   "cell_type": "code",
   "execution_count": 104,
   "id": "ddb9ed9f",
   "metadata": {},
   "outputs": [
    {
     "name": "stdout",
     "output_type": "stream",
     "text": [
      "1 процент\n",
      "2 процента\n",
      "3 процента\n",
      "4 процента\n",
      "5 процентов\n",
      "6 процентов\n",
      "7 процентов\n",
      "8 процентов\n",
      "9 процентов\n",
      "10 процентов\n",
      "11 процентов\n",
      "12 процентов\n",
      "13 процентов\n",
      "14 процентов\n",
      "15 процентов\n",
      "16 процентов\n",
      "17 процентов\n",
      "18 процентов\n",
      "19 процентов\n",
      "20 процентов\n",
      "21 процент\n",
      "22 процента\n",
      "23 процента\n",
      "24 процента\n",
      "25 процентов\n",
      "26 процентов\n",
      "27 процентов\n",
      "28 процентов\n",
      "29 процентов\n",
      "30 процентов\n",
      "31 процент\n",
      "32 процента\n",
      "33 процента\n",
      "34 процента\n",
      "35 процентов\n",
      "36 процентов\n",
      "37 процентов\n",
      "38 процентов\n",
      "39 процентов\n",
      "40 процентов\n",
      "41 процент\n",
      "42 процента\n",
      "43 процента\n",
      "44 процента\n",
      "45 процентов\n",
      "46 процентов\n",
      "47 процентов\n",
      "48 процентов\n",
      "49 процентов\n",
      "50 процентов\n",
      "51 процент\n",
      "52 процента\n",
      "53 процента\n",
      "54 процента\n",
      "55 процентов\n",
      "56 процентов\n",
      "57 процентов\n",
      "58 процентов\n",
      "59 процентов\n",
      "60 процентов\n",
      "61 процент\n",
      "62 процента\n",
      "63 процента\n",
      "64 процента\n",
      "65 процентов\n",
      "66 процентов\n",
      "67 процентов\n",
      "68 процентов\n",
      "69 процентов\n",
      "70 процентов\n",
      "71 процент\n",
      "72 процента\n",
      "73 процента\n",
      "74 процента\n",
      "75 процентов\n",
      "76 процентов\n",
      "77 процентов\n",
      "78 процентов\n",
      "79 процентов\n",
      "80 процентов\n",
      "81 процент\n",
      "82 процента\n",
      "83 процента\n",
      "84 процента\n",
      "85 процентов\n",
      "86 процентов\n",
      "87 процентов\n",
      "88 процентов\n",
      "89 процентов\n",
      "90 процентов\n",
      "91 процент\n",
      "92 процента\n",
      "93 процента\n",
      "94 процента\n",
      "95 процентов\n",
      "96 процентов\n",
      "97 процентов\n",
      "98 процентов\n",
      "99 процентов\n",
      "100 процентов\n"
     ]
    }
   ],
   "source": [
    "'''\n",
    "Реализовать склонение слова «процент» во фразе «N процентов».\n",
    "Вывести эту фразу на экран отдельной строкой для каждого из чисел в интервале от 1 до 100:\n",
    "'''\n",
    "\n",
    "for i in range(1,101):\n",
    "    new_str=str(i)\n",
    "    new_list = list(new_str)\n",
    "    if int(new_list[-1]) == 1 and i != 11:\n",
    "        print('{} процент'.format(i))\n",
    "    elif int(new_list[-1])>1 and int(new_list[-1])<= 4:\n",
    "        if  i> 10 and i<= 14:\n",
    "            print('{} процентов'.format(i))\n",
    "        else:\n",
    "            print('{} процента'.format(i))\n",
    "    else:\n",
    "        print('{} процентов'.format(i))"
   ]
  },
  {
   "cell_type": "code",
   "execution_count": null,
   "id": "66bfa2e5",
   "metadata": {},
   "outputs": [],
   "source": []
  },
  {
   "cell_type": "code",
   "execution_count": null,
   "id": "16ddb9ae",
   "metadata": {},
   "outputs": [],
   "source": []
  },
  {
   "cell_type": "code",
   "execution_count": null,
   "id": "683f25f3",
   "metadata": {},
   "outputs": [],
   "source": []
  },
  {
   "cell_type": "code",
   "execution_count": null,
   "id": "12a72dec",
   "metadata": {},
   "outputs": [],
   "source": []
  },
  {
   "cell_type": "code",
   "execution_count": null,
   "id": "cbfc1319",
   "metadata": {},
   "outputs": [],
   "source": []
  },
  {
   "cell_type": "code",
   "execution_count": null,
   "id": "51dcddcc",
   "metadata": {},
   "outputs": [],
   "source": []
  },
  {
   "cell_type": "code",
   "execution_count": null,
   "id": "34d662a5",
   "metadata": {},
   "outputs": [],
   "source": []
  },
  {
   "cell_type": "code",
   "execution_count": null,
   "id": "60bf3af5",
   "metadata": {},
   "outputs": [],
   "source": []
  },
  {
   "cell_type": "code",
   "execution_count": null,
   "id": "36a2fe04",
   "metadata": {},
   "outputs": [],
   "source": []
  },
  {
   "cell_type": "code",
   "execution_count": null,
   "id": "eaf4eb28",
   "metadata": {},
   "outputs": [],
   "source": []
  },
  {
   "cell_type": "code",
   "execution_count": null,
   "id": "debac3d2",
   "metadata": {},
   "outputs": [],
   "source": []
  },
  {
   "cell_type": "code",
   "execution_count": null,
   "id": "2f63d978",
   "metadata": {},
   "outputs": [],
   "source": []
  },
  {
   "cell_type": "code",
   "execution_count": null,
   "id": "95bb2d34",
   "metadata": {},
   "outputs": [],
   "source": []
  },
  {
   "cell_type": "code",
   "execution_count": null,
   "id": "e3d2ffc5",
   "metadata": {},
   "outputs": [],
   "source": []
  },
  {
   "cell_type": "code",
   "execution_count": null,
   "id": "5c573fed",
   "metadata": {},
   "outputs": [],
   "source": []
  },
  {
   "cell_type": "code",
   "execution_count": null,
   "id": "6ba349d7",
   "metadata": {},
   "outputs": [],
   "source": []
  },
  {
   "cell_type": "code",
   "execution_count": null,
   "id": "90bfa318",
   "metadata": {},
   "outputs": [],
   "source": []
  },
  {
   "cell_type": "code",
   "execution_count": null,
   "id": "d988e6ee",
   "metadata": {},
   "outputs": [],
   "source": []
  },
  {
   "cell_type": "code",
   "execution_count": null,
   "id": "5f40ca37",
   "metadata": {},
   "outputs": [],
   "source": []
  },
  {
   "cell_type": "code",
   "execution_count": null,
   "id": "3795ab5b",
   "metadata": {},
   "outputs": [],
   "source": []
  },
  {
   "cell_type": "code",
   "execution_count": null,
   "id": "57f219bb",
   "metadata": {},
   "outputs": [],
   "source": []
  },
  {
   "cell_type": "code",
   "execution_count": null,
   "id": "d6715651",
   "metadata": {},
   "outputs": [],
   "source": []
  },
  {
   "cell_type": "code",
   "execution_count": null,
   "id": "82e1703a",
   "metadata": {},
   "outputs": [],
   "source": []
  },
  {
   "cell_type": "code",
   "execution_count": null,
   "id": "ea58a9cf",
   "metadata": {},
   "outputs": [],
   "source": []
  },
  {
   "cell_type": "code",
   "execution_count": null,
   "id": "55f75fd8",
   "metadata": {},
   "outputs": [],
   "source": []
  },
  {
   "cell_type": "code",
   "execution_count": null,
   "id": "c88eb396",
   "metadata": {},
   "outputs": [],
   "source": []
  },
  {
   "cell_type": "code",
   "execution_count": null,
   "id": "2fea6c65",
   "metadata": {},
   "outputs": [],
   "source": []
  },
  {
   "cell_type": "code",
   "execution_count": null,
   "id": "535295a2",
   "metadata": {},
   "outputs": [],
   "source": []
  },
  {
   "cell_type": "code",
   "execution_count": null,
   "id": "4200c37c",
   "metadata": {},
   "outputs": [],
   "source": []
  },
  {
   "cell_type": "code",
   "execution_count": null,
   "id": "7a01b861",
   "metadata": {},
   "outputs": [],
   "source": []
  },
  {
   "cell_type": "code",
   "execution_count": null,
   "id": "ed303815",
   "metadata": {},
   "outputs": [],
   "source": []
  },
  {
   "cell_type": "code",
   "execution_count": null,
   "id": "03fb67b3",
   "metadata": {},
   "outputs": [],
   "source": []
  },
  {
   "cell_type": "code",
   "execution_count": 39,
   "id": "633e33d5",
   "metadata": {},
   "outputs": [
    {
     "name": "stdout",
     "output_type": "stream",
     "text": [
      "1\n",
      "10\n",
      "15\n",
      "20\n",
      "29\n",
      "38\n",
      "39\n",
      "40\n",
      "[1, 9, 25, 49, 81]\n"
     ]
    }
   ],
   "source": [
    "a = [x**2 for x in range(1,11) if x % 2 != 0]\n",
    "\n",
    "sum_numbers = 0\n",
    "for i in range(len(a)):\n",
    "    # переводим каждую цифру числа в строку, формируя масив списков\n",
    "    list_number = list(str(a[i]))\n",
    "    \n",
    "    # Переводим в каждом списке цифры в Integer\n",
    "    for i in range(len(list_number)):\n",
    "        list_number[i] = int(list_number[i])\n",
    "    \n",
    "    #sum_numbers = 0\n",
    "    for j in range(len(list_number)):\n",
    "        \n",
    "        sum_numbers = sum_numbers + list_number[i]\n",
    "        print(sum_numbers)\n",
    "    \n",
    "    \n",
    "    \n",
    "    \n",
    "  \n",
    "     \n",
    "print(a)\n",
    "    "
   ]
  },
  {
   "cell_type": "code",
   "execution_count": 75,
   "id": "e4f88ecc",
   "metadata": {},
   "outputs": [
    {
     "name": "stdout",
     "output_type": "stream",
     "text": [
      "[6859, 29791, 79507, 117649]\n",
      "233806\n"
     ]
    }
   ],
   "source": [
    "cube_lst = []            # Create empty list\n",
    "for x in range(1,50):\n",
    "    if x % 2 != 0:       # uneven numbers\n",
    "        cube_lst.append(x**3)\n",
    "\n",
    "\n",
    "\n",
    "numbers_sum = [] # список чисел, сумма цифр которых делится нацело на 7\n",
    "\n",
    "\n",
    "i = 0\n",
    "for num in cube_lst:\n",
    "    \n",
    "    sum_numbers = 0\n",
    "    while (num != 0):\n",
    "        sum_numbers += num%10\n",
    "        num //= 10\n",
    "        \n",
    "    if sum_numbers % 7 == 0: \n",
    "        numbers_sum.append(cube_lst[i]) # список чисел, сумма цифр которых делится нацело на 7\n",
    "         \n",
    "    i+=1\n",
    "\n",
    "sum_num_7 = 0\n",
    "\n",
    "# сумма чисел, которые делятся нацело на 7\n",
    "for i in range(len(numbers_sum)):\n",
    "    sum_num_7 += numbers_sum[i]\n",
    "\n",
    "    \n",
    "\n",
    "    \n",
    "print(numbers_sum)\n",
    "print(sum_num_7)"
   ]
  },
  {
   "cell_type": "code",
   "execution_count": null,
   "id": "d5e4101c",
   "metadata": {},
   "outputs": [],
   "source": []
  },
  {
   "cell_type": "code",
   "execution_count": null,
   "id": "2ea64693",
   "metadata": {},
   "outputs": [],
   "source": []
  },
  {
   "cell_type": "code",
   "execution_count": null,
   "id": "32d69c2d",
   "metadata": {},
   "outputs": [],
   "source": []
  },
  {
   "cell_type": "code",
   "execution_count": null,
   "id": "37c79fc9",
   "metadata": {},
   "outputs": [],
   "source": []
  },
  {
   "cell_type": "code",
   "execution_count": null,
   "id": "665c9ef0",
   "metadata": {},
   "outputs": [],
   "source": []
  },
  {
   "cell_type": "code",
   "execution_count": null,
   "id": "67aac07a",
   "metadata": {},
   "outputs": [],
   "source": []
  },
  {
   "cell_type": "code",
   "execution_count": null,
   "id": "c22c404d",
   "metadata": {},
   "outputs": [],
   "source": []
  },
  {
   "cell_type": "code",
   "execution_count": null,
   "id": "dfa28f57",
   "metadata": {},
   "outputs": [],
   "source": []
  },
  {
   "cell_type": "code",
   "execution_count": null,
   "id": "f25991fd",
   "metadata": {},
   "outputs": [],
   "source": []
  },
  {
   "cell_type": "code",
   "execution_count": null,
   "id": "25270968",
   "metadata": {},
   "outputs": [],
   "source": []
  },
  {
   "cell_type": "code",
   "execution_count": 65,
   "id": "8d5e0cfb",
   "metadata": {},
   "outputs": [
    {
     "data": {
      "text/plain": [
       "112"
      ]
     },
     "execution_count": 65,
     "metadata": {},
     "output_type": "execute_result"
    }
   ],
   "source": [
    "28*4"
   ]
  },
  {
   "cell_type": "code",
   "execution_count": null,
   "id": "2e24a4fc",
   "metadata": {},
   "outputs": [],
   "source": []
  },
  {
   "cell_type": "code",
   "execution_count": null,
   "id": "38385121",
   "metadata": {},
   "outputs": [],
   "source": []
  },
  {
   "cell_type": "code",
   "execution_count": null,
   "id": "f6d7a715",
   "metadata": {},
   "outputs": [],
   "source": []
  },
  {
   "cell_type": "code",
   "execution_count": null,
   "id": "3a2b75f7",
   "metadata": {},
   "outputs": [],
   "source": []
  },
  {
   "cell_type": "code",
   "execution_count": null,
   "id": "8d28647b",
   "metadata": {},
   "outputs": [],
   "source": []
  },
  {
   "cell_type": "code",
   "execution_count": null,
   "id": "760ac9d4",
   "metadata": {},
   "outputs": [],
   "source": []
  },
  {
   "cell_type": "code",
   "execution_count": null,
   "id": "085237df",
   "metadata": {},
   "outputs": [],
   "source": []
  },
  {
   "cell_type": "code",
   "execution_count": null,
   "id": "cc17e9a0",
   "metadata": {},
   "outputs": [],
   "source": []
  },
  {
   "cell_type": "code",
   "execution_count": null,
   "id": "1ca64c26",
   "metadata": {},
   "outputs": [],
   "source": []
  },
  {
   "cell_type": "code",
   "execution_count": null,
   "id": "f051bc51",
   "metadata": {},
   "outputs": [],
   "source": []
  },
  {
   "cell_type": "code",
   "execution_count": null,
   "id": "4316f176",
   "metadata": {},
   "outputs": [],
   "source": []
  },
  {
   "cell_type": "code",
   "execution_count": null,
   "id": "5e392db0",
   "metadata": {},
   "outputs": [],
   "source": []
  },
  {
   "cell_type": "code",
   "execution_count": null,
   "id": "a0ded52c",
   "metadata": {},
   "outputs": [],
   "source": []
  },
  {
   "cell_type": "code",
   "execution_count": null,
   "id": "ac68ef84",
   "metadata": {},
   "outputs": [],
   "source": []
  },
  {
   "cell_type": "code",
   "execution_count": null,
   "id": "31ff1539",
   "metadata": {},
   "outputs": [],
   "source": []
  },
  {
   "cell_type": "code",
   "execution_count": null,
   "id": "f4b65453",
   "metadata": {},
   "outputs": [],
   "source": []
  },
  {
   "cell_type": "code",
   "execution_count": null,
   "id": "9bde20f9",
   "metadata": {},
   "outputs": [],
   "source": []
  },
  {
   "cell_type": "code",
   "execution_count": null,
   "id": "32df2bcc",
   "metadata": {},
   "outputs": [],
   "source": []
  },
  {
   "cell_type": "code",
   "execution_count": null,
   "id": "a2742a4b",
   "metadata": {},
   "outputs": [],
   "source": []
  },
  {
   "cell_type": "code",
   "execution_count": null,
   "id": "575f2692",
   "metadata": {},
   "outputs": [],
   "source": []
  },
  {
   "cell_type": "code",
   "execution_count": null,
   "id": "dbbb88af",
   "metadata": {},
   "outputs": [],
   "source": []
  },
  {
   "cell_type": "code",
   "execution_count": null,
   "id": "eab29557",
   "metadata": {},
   "outputs": [],
   "source": []
  },
  {
   "cell_type": "code",
   "execution_count": null,
   "id": "11e0a70e",
   "metadata": {},
   "outputs": [],
   "source": []
  },
  {
   "cell_type": "code",
   "execution_count": null,
   "id": "d7919a04",
   "metadata": {},
   "outputs": [],
   "source": []
  },
  {
   "cell_type": "code",
   "execution_count": null,
   "id": "323c1baf",
   "metadata": {},
   "outputs": [],
   "source": []
  },
  {
   "cell_type": "code",
   "execution_count": null,
   "id": "f1f2449f",
   "metadata": {},
   "outputs": [],
   "source": []
  },
  {
   "cell_type": "code",
   "execution_count": null,
   "id": "940cf51e",
   "metadata": {},
   "outputs": [],
   "source": []
  },
  {
   "cell_type": "code",
   "execution_count": null,
   "id": "81a2ea76",
   "metadata": {},
   "outputs": [],
   "source": []
  },
  {
   "cell_type": "code",
   "execution_count": null,
   "id": "7ab7c852",
   "metadata": {},
   "outputs": [],
   "source": []
  },
  {
   "cell_type": "code",
   "execution_count": null,
   "id": "99b63cd2",
   "metadata": {},
   "outputs": [],
   "source": []
  },
  {
   "cell_type": "code",
   "execution_count": null,
   "id": "16d86d26",
   "metadata": {},
   "outputs": [],
   "source": []
  },
  {
   "cell_type": "code",
   "execution_count": null,
   "id": "eb1d64c6",
   "metadata": {},
   "outputs": [],
   "source": []
  },
  {
   "cell_type": "code",
   "execution_count": null,
   "id": "369a5916",
   "metadata": {},
   "outputs": [],
   "source": []
  },
  {
   "cell_type": "code",
   "execution_count": null,
   "id": "d10b2699",
   "metadata": {},
   "outputs": [],
   "source": []
  },
  {
   "cell_type": "code",
   "execution_count": null,
   "id": "393a1e27",
   "metadata": {},
   "outputs": [],
   "source": []
  },
  {
   "cell_type": "code",
   "execution_count": null,
   "id": "f7735f7e",
   "metadata": {},
   "outputs": [],
   "source": []
  },
  {
   "cell_type": "code",
   "execution_count": null,
   "id": "acd48f7a",
   "metadata": {},
   "outputs": [],
   "source": []
  },
  {
   "cell_type": "code",
   "execution_count": null,
   "id": "7b277230",
   "metadata": {},
   "outputs": [],
   "source": []
  },
  {
   "cell_type": "code",
   "execution_count": null,
   "id": "af3a84bd",
   "metadata": {},
   "outputs": [],
   "source": []
  },
  {
   "cell_type": "code",
   "execution_count": null,
   "id": "5aba1381",
   "metadata": {},
   "outputs": [],
   "source": []
  },
  {
   "cell_type": "code",
   "execution_count": null,
   "id": "03ab4ec7",
   "metadata": {},
   "outputs": [],
   "source": []
  },
  {
   "cell_type": "code",
   "execution_count": null,
   "id": "cea429d8",
   "metadata": {},
   "outputs": [],
   "source": []
  },
  {
   "cell_type": "code",
   "execution_count": null,
   "id": "5596adf4",
   "metadata": {},
   "outputs": [],
   "source": []
  },
  {
   "cell_type": "code",
   "execution_count": null,
   "id": "e931e9ed",
   "metadata": {},
   "outputs": [],
   "source": []
  },
  {
   "cell_type": "code",
   "execution_count": null,
   "id": "096ccb51",
   "metadata": {},
   "outputs": [],
   "source": []
  },
  {
   "cell_type": "code",
   "execution_count": null,
   "id": "420e540a",
   "metadata": {},
   "outputs": [],
   "source": []
  },
  {
   "cell_type": "code",
   "execution_count": 16,
   "id": "862bc136",
   "metadata": {},
   "outputs": [
    {
     "data": {
      "text/plain": [
       "range(1, 1001)"
      ]
     },
     "execution_count": 16,
     "metadata": {},
     "output_type": "execute_result"
    }
   ],
   "source": [
    "\n"
   ]
  },
  {
   "cell_type": "code",
   "execution_count": null,
   "id": "da929714",
   "metadata": {},
   "outputs": [],
   "source": []
  },
  {
   "cell_type": "code",
   "execution_count": null,
   "id": "059c0a01",
   "metadata": {},
   "outputs": [],
   "source": []
  },
  {
   "cell_type": "code",
   "execution_count": null,
   "id": "496d1d59",
   "metadata": {},
   "outputs": [],
   "source": []
  },
  {
   "cell_type": "code",
   "execution_count": null,
   "id": "a8ea4dbc",
   "metadata": {},
   "outputs": [],
   "source": []
  },
  {
   "cell_type": "code",
   "execution_count": null,
   "id": "370d1fbc",
   "metadata": {},
   "outputs": [],
   "source": []
  },
  {
   "cell_type": "code",
   "execution_count": null,
   "id": "9d551def",
   "metadata": {},
   "outputs": [],
   "source": []
  },
  {
   "cell_type": "code",
   "execution_count": null,
   "id": "916f9b0b",
   "metadata": {},
   "outputs": [],
   "source": []
  },
  {
   "cell_type": "code",
   "execution_count": null,
   "id": "ee0fbac1",
   "metadata": {},
   "outputs": [],
   "source": []
  },
  {
   "cell_type": "code",
   "execution_count": null,
   "id": "df815c70",
   "metadata": {},
   "outputs": [],
   "source": []
  },
  {
   "cell_type": "code",
   "execution_count": null,
   "id": "09fe88ef",
   "metadata": {},
   "outputs": [],
   "source": []
  },
  {
   "cell_type": "code",
   "execution_count": 3,
   "id": "93ad0428",
   "metadata": {},
   "outputs": [
    {
     "data": {
      "text/plain": [
       "86400"
      ]
     },
     "execution_count": 3,
     "metadata": {},
     "output_type": "execute_result"
    }
   ],
   "source": [
    "3600*24"
   ]
  },
  {
   "cell_type": "code",
   "execution_count": null,
   "id": "65138b7a",
   "metadata": {},
   "outputs": [],
   "source": []
  },
  {
   "cell_type": "code",
   "execution_count": null,
   "id": "464b14c1",
   "metadata": {},
   "outputs": [],
   "source": []
  }
 ],
 "metadata": {
  "kernelspec": {
   "display_name": "Python 3",
   "language": "python",
   "name": "python3"
  },
  "language_info": {
   "codemirror_mode": {
    "name": "ipython",
    "version": 3
   },
   "file_extension": ".py",
   "mimetype": "text/x-python",
   "name": "python",
   "nbconvert_exporter": "python",
   "pygments_lexer": "ipython3",
   "version": "3.8.8"
  }
 },
 "nbformat": 4,
 "nbformat_minor": 5
}
