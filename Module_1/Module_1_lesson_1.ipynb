{
 "cells": [
  {
   "cell_type": "code",
   "execution_count": 11,
   "id": "82878ad2",
   "metadata": {},
   "outputs": [
    {
     "name": "stdout",
     "output_type": "stream",
     "text": [
      "Edit the duration103000\n",
      "1 дн 4 ч 36 мин 40 сек\n"
     ]
    }
   ],
   "source": [
    "'''\n",
    "Реализовать вывод информации о промежутке времени в зависимости от его\n",
    "продолжительности duration в секундах: до минуты:\n",
    "<s> сек; до часа: <m> мин <s> сек; до суток: <h> час <m> мин <s> сек;\n",
    "* в остальных случаях: <d> дн <h> час <m> мин <s> сек.\n",
    "'''\n",
    "\n",
    "min_1 = 60\n",
    "hour_1 = 3600\n",
    "day_1 = 3600*24\n",
    "\n",
    "\n",
    "def data_time(sec):\n",
    "    \n",
    "    # Вывод до минуты:\n",
    "    if sec < min_1:\n",
    "        return (sec, 'secands')\n",
    "    \n",
    "    # Вывод до часа:\n",
    "    elif min_1 <= sec < hour_1:\n",
    "        minuts = sec // 60  # целое от деления\n",
    "        sec = sec % min_1\n",
    "        return ('{} мин {} сек'.format(minuts, sec))\n",
    "    \n",
    "    # Вывод до дня:\n",
    "    elif  hour_1 <= sec < day_1:\n",
    "        hours = sec // 3600\n",
    "        sec %= hour_1\n",
    "        minuts = sec // min_1\n",
    "        sec = sec % min_1\n",
    "        return ('{} ч {} мин {} сек'.format(hours, minuts, sec))\n",
    "    \n",
    "    # Вывод до года:\n",
    "    elif sec >= day_1:\n",
    "        days = sec // day_1\n",
    "        sec %= day_1\n",
    "        hours = sec // hour_1\n",
    "        sec %= hour_1\n",
    "        minuts = sec // min_1\n",
    "        sec %= min_1\n",
    "        return ('{} дн {} ч {} мин {} сек'.format(days, hours, minuts, sec))\n",
    "\n",
    "duration = int(input('Введите текущее время в секундах: '))\n",
    "print(data_time(duration))"
   ]
  },
  {
   "cell_type": "code",
   "execution_count": 103,
   "id": "83d23262",
   "metadata": {},
   "outputs": [
    {
     "name": "stdout",
     "output_type": "stream",
     "text": [
      "Какое добавить число? 17\n",
      "15392909930\n"
     ]
    }
   ],
   "source": [
    "\n",
    "'''\n",
    "Создать список, состоящий из кубов нечётных чисел от 1 до 1000\n",
    "'''\n",
    "\n",
    "# method generetor (list comprehension):\n",
    "#cube_lst = [i**3 for i in range(1,1001) if i % 2 != 0]\n",
    "\n",
    "\n",
    "\n",
    "#cube_lst = []            # Create empty list\n",
    "#for x in range(1,1001):\n",
    "   # if x % 2 != 0:       # uneven numbers\n",
    "    #    cube_lst.append(x**3)\n",
    "\n",
    "'''\n",
    "Вычислить сумму тех чисел из этого списка, сумма цифр которых делится нацело на 7\n",
    "'''\n",
    "# method generetor (list comprehension):\n",
    "\n",
    "#cube_lst = [i**3 for i in range(1,1001) if i % 2 != 0]\n",
    "\n",
    "\n",
    "# method circle for + condition if\n",
    "\n",
    "cube_lst = []    # list of uneven numbers cubed\n",
    "\n",
    "for num in range(1,1001):\n",
    "    if num % 2 != 0:\n",
    "        cube_lst.append(num**3)\n",
    "\n",
    "\n",
    "\n",
    "cube_even_7 = [] # list of numbers that (% 7 == 0)\n",
    "\n",
    "\n",
    "for i in range(len(cube_lst)):\n",
    "\n",
    "    num = cube_lst[i]\n",
    "    sum_digits = 0     # сумма цифр i-го числа\n",
    "    while num != 0:\n",
    "        sum_digits += num%10\n",
    "        num //=10\n",
    "    if sum_digits % 7 == 0:\n",
    "        cube_even_7.append(cube_lst[i])\n",
    "\n",
    "\n",
    "# Сумма чисел, нацело делящиеся на 7\n",
    "sum_num_even_7 = 0\n",
    "for num in cube_even_7:\n",
    "    sum_num_even_7 += num\n",
    "    \n",
    "print(sum_num_even_7)\n",
    "\n",
    "\n",
    "'''\n",
    "К каждому элементу списка добавить 17 и заново вычислить сумму тех чисел из этого списка,\n",
    "сумма цифр которых делится нацело на 7.\n",
    "'''\n",
    "# Чтобы можно было реализовать данный алгоритм\n",
    "# можно каждый раз выполнять через функцию\n",
    "\n",
    "def sum_digits_7(num_list,value):\n",
    "    list_cube_7 = []\n",
    "    sum_num_even_7 = 0\n",
    "    for i in range(len(num_list)):\n",
    "        num = num_list[i] + value\n",
    "        sum_digits = 0\n",
    "        \n",
    "        while num != 0:\n",
    "            sum_digits += num % 10\n",
    "            num //= 10\n",
    "        if sum_digits % 7 == 0:\n",
    "            list_cube_7.append(num_list[i] + value)\n",
    "            \n",
    "    for numbers in list_cube_7:\n",
    "        sum_num_even_7 += numbers\n",
    "    return (sum_num_even_7)\n",
    "    \n",
    "\n",
    "value = int(input('Какое добавить число? '))\n",
    "\n",
    "print(sum_digits_7(cube_lst, value))\n",
    "\n"
   ]
  },
  {
   "cell_type": "code",
   "execution_count": 104,
   "id": "1cc1b64d",
   "metadata": {},
   "outputs": [
    {
     "name": "stdout",
     "output_type": "stream",
     "text": [
      "1 процент\n",
      "2 процента\n",
      "3 процента\n",
      "4 процента\n",
      "5 процентов\n",
      "6 процентов\n",
      "7 процентов\n",
      "8 процентов\n",
      "9 процентов\n",
      "10 процентов\n",
      "11 процентов\n",
      "12 процентов\n",
      "13 процентов\n",
      "14 процентов\n",
      "15 процентов\n",
      "16 процентов\n",
      "17 процентов\n",
      "18 процентов\n",
      "19 процентов\n",
      "20 процентов\n",
      "21 процент\n",
      "22 процента\n",
      "23 процента\n",
      "24 процента\n",
      "25 процентов\n",
      "26 процентов\n",
      "27 процентов\n",
      "28 процентов\n",
      "29 процентов\n",
      "30 процентов\n",
      "31 процент\n",
      "32 процента\n",
      "33 процента\n",
      "34 процента\n",
      "35 процентов\n",
      "36 процентов\n",
      "37 процентов\n",
      "38 процентов\n",
      "39 процентов\n",
      "40 процентов\n",
      "41 процент\n",
      "42 процента\n",
      "43 процента\n",
      "44 процента\n",
      "45 процентов\n",
      "46 процентов\n",
      "47 процентов\n",
      "48 процентов\n",
      "49 процентов\n",
      "50 процентов\n",
      "51 процент\n",
      "52 процента\n",
      "53 процента\n",
      "54 процента\n",
      "55 процентов\n",
      "56 процентов\n",
      "57 процентов\n",
      "58 процентов\n",
      "59 процентов\n",
      "60 процентов\n",
      "61 процент\n",
      "62 процента\n",
      "63 процента\n",
      "64 процента\n",
      "65 процентов\n",
      "66 процентов\n",
      "67 процентов\n",
      "68 процентов\n",
      "69 процентов\n",
      "70 процентов\n",
      "71 процент\n",
      "72 процента\n",
      "73 процента\n",
      "74 процента\n",
      "75 процентов\n",
      "76 процентов\n",
      "77 процентов\n",
      "78 процентов\n",
      "79 процентов\n",
      "80 процентов\n",
      "81 процент\n",
      "82 процента\n",
      "83 процента\n",
      "84 процента\n",
      "85 процентов\n",
      "86 процентов\n",
      "87 процентов\n",
      "88 процентов\n",
      "89 процентов\n",
      "90 процентов\n",
      "91 процент\n",
      "92 процента\n",
      "93 процента\n",
      "94 процента\n",
      "95 процентов\n",
      "96 процентов\n",
      "97 процентов\n",
      "98 процентов\n",
      "99 процентов\n",
      "100 процентов\n"
     ]
    }
   ],
   "source": [
    "'''\n",
    "Реализовать склонение слова «процент» во фразе «N процентов».\n",
    "Вывести эту фразу на экран отдельной строкой для каждого из чисел в интервале от 1 до 100:\n",
    "'''\n",
    "\n",
    "for i in range(1,101):\n",
    "    new_str=str(i)\n",
    "    new_list = list(new_str)\n",
    "    if int(new_list[-1]) == 1 and i != 11:\n",
    "        print('{} процент'.format(i))\n",
    "    elif int(new_list[-1])>1 and int(new_list[-1])<= 4:\n",
    "        if  i> 10 and i<= 14:\n",
    "            print('{} процентов'.format(i))\n",
    "        else:\n",
    "            print('{} процента'.format(i))\n",
    "    else:\n",
    "        print('{} процентов'.format(i))"
   ]
  },
  {
   "cell_type": "code",
   "execution_count": null,
   "id": "b108db19",
   "metadata": {},
   "outputs": [],
   "source": []
  },
  {
   "cell_type": "code",
   "execution_count": null,
   "id": "3f93fad5",
   "metadata": {},
   "outputs": [],
   "source": []
  },
  {
   "cell_type": "code",
   "execution_count": null,
   "id": "ef4340c1",
   "metadata": {},
   "outputs": [],
   "source": []
  },
  {
   "cell_type": "code",
   "execution_count": null,
   "id": "2dadec57",
   "metadata": {},
   "outputs": [],
   "source": []
  },
  {
   "cell_type": "code",
   "execution_count": null,
   "id": "2f0253c6",
   "metadata": {},
   "outputs": [],
   "source": []
  },
  {
   "cell_type": "code",
   "execution_count": null,
   "id": "2c685680",
   "metadata": {},
   "outputs": [],
   "source": []
  },
  {
   "cell_type": "code",
   "execution_count": null,
   "id": "f9dcea41",
   "metadata": {},
   "outputs": [],
   "source": []
  },
  {
   "cell_type": "code",
   "execution_count": null,
   "id": "f0126d9f",
   "metadata": {},
   "outputs": [],
   "source": []
  },
  {
   "cell_type": "code",
   "execution_count": null,
   "id": "b6404246",
   "metadata": {},
   "outputs": [],
   "source": []
  },
  {
   "cell_type": "code",
   "execution_count": null,
   "id": "be4c42fc",
   "metadata": {},
   "outputs": [],
   "source": []
  },
  {
   "cell_type": "code",
   "execution_count": null,
   "id": "aab90a7c",
   "metadata": {},
   "outputs": [],
   "source": []
  },
  {
   "cell_type": "code",
   "execution_count": null,
   "id": "c0439451",
   "metadata": {},
   "outputs": [],
   "source": []
  },
  {
   "cell_type": "code",
   "execution_count": null,
   "id": "e1063236",
   "metadata": {},
   "outputs": [],
   "source": []
  },
  {
   "cell_type": "code",
   "execution_count": null,
   "id": "711ab30f",
   "metadata": {},
   "outputs": [],
   "source": []
  },
  {
   "cell_type": "code",
   "execution_count": null,
   "id": "d2e435f3",
   "metadata": {},
   "outputs": [],
   "source": []
  },
  {
   "cell_type": "code",
   "execution_count": null,
   "id": "efcc05a4",
   "metadata": {},
   "outputs": [],
   "source": []
  },
  {
   "cell_type": "code",
   "execution_count": null,
   "id": "88f6010d",
   "metadata": {},
   "outputs": [],
   "source": []
  },
  {
   "cell_type": "code",
   "execution_count": null,
   "id": "c0bcec04",
   "metadata": {},
   "outputs": [],
   "source": []
  },
  {
   "cell_type": "code",
   "execution_count": null,
   "id": "191b1c72",
   "metadata": {},
   "outputs": [],
   "source": []
  },
  {
   "cell_type": "code",
   "execution_count": null,
   "id": "de256a2e",
   "metadata": {},
   "outputs": [],
   "source": []
  },
  {
   "cell_type": "code",
   "execution_count": null,
   "id": "c59bc1c7",
   "metadata": {},
   "outputs": [],
   "source": []
  },
  {
   "cell_type": "code",
   "execution_count": null,
   "id": "0836b4b3",
   "metadata": {},
   "outputs": [],
   "source": []
  },
  {
   "cell_type": "code",
   "execution_count": null,
   "id": "1a7649c3",
   "metadata": {},
   "outputs": [],
   "source": []
  },
  {
   "cell_type": "code",
   "execution_count": null,
   "id": "df17ab99",
   "metadata": {},
   "outputs": [],
   "source": []
  },
  {
   "cell_type": "code",
   "execution_count": null,
   "id": "de11ef1f",
   "metadata": {},
   "outputs": [],
   "source": []
  },
  {
   "cell_type": "code",
   "execution_count": null,
   "id": "7b571e59",
   "metadata": {},
   "outputs": [],
   "source": []
  },
  {
   "cell_type": "code",
   "execution_count": null,
   "id": "d5c39ded",
   "metadata": {},
   "outputs": [],
   "source": []
  },
  {
   "cell_type": "code",
   "execution_count": null,
   "id": "82aa39b6",
   "metadata": {},
   "outputs": [],
   "source": []
  },
  {
   "cell_type": "code",
   "execution_count": null,
   "id": "d84448d1",
   "metadata": {},
   "outputs": [],
   "source": []
  },
  {
   "cell_type": "code",
   "execution_count": null,
   "id": "65d6450a",
   "metadata": {},
   "outputs": [],
   "source": []
  },
  {
   "cell_type": "code",
   "execution_count": null,
   "id": "7fc23ed7",
   "metadata": {},
   "outputs": [],
   "source": []
  },
  {
   "cell_type": "code",
   "execution_count": null,
   "id": "8ba16b4a",
   "metadata": {},
   "outputs": [],
   "source": []
  },
  {
   "cell_type": "code",
   "execution_count": 39,
   "id": "22f04389",
   "metadata": {},
   "outputs": [
    {
     "name": "stdout",
     "output_type": "stream",
     "text": [
      "1\n",
      "10\n",
      "15\n",
      "20\n",
      "29\n",
      "38\n",
      "39\n",
      "40\n",
      "[1, 9, 25, 49, 81]\n"
     ]
    }
   ],
   "source": [
    "a = [x**2 for x in range(1,11) if x % 2 != 0]\n",
    "\n",
    "sum_numbers = 0\n",
    "for i in range(len(a)):\n",
    "    # переводим каждую цифру числа в строку, формируя масив списков\n",
    "    list_number = list(str(a[i]))\n",
    "    \n",
    "    # Переводим в каждом списке цифры в Integer\n",
    "    for i in range(len(list_number)):\n",
    "        list_number[i] = int(list_number[i])\n",
    "    \n",
    "    #sum_numbers = 0\n",
    "    for j in range(len(list_number)):\n",
    "        \n",
    "        sum_numbers = sum_numbers + list_number[i]\n",
    "        print(sum_numbers)\n",
    "    \n",
    "    \n",
    "    \n",
    "    \n",
    "  \n",
    "     \n",
    "print(a)\n",
    "    "
   ]
  },
  {
   "cell_type": "code",
   "execution_count": 75,
   "id": "0c4d40f3",
   "metadata": {},
   "outputs": [
    {
     "name": "stdout",
     "output_type": "stream",
     "text": [
      "[6859, 29791, 79507, 117649]\n",
      "233806\n"
     ]
    }
   ],
   "source": [
    "cube_lst = []            # Create empty list\n",
    "for x in range(1,50):\n",
    "    if x % 2 != 0:       # uneven numbers\n",
    "        cube_lst.append(x**3)\n",
    "\n",
    "\n",
    "\n",
    "numbers_sum = [] # список чисел, сумма цифр которых делится нацело на 7\n",
    "\n",
    "\n",
    "i = 0\n",
    "for num in cube_lst:\n",
    "    \n",
    "    sum_numbers = 0\n",
    "    while (num != 0):\n",
    "        sum_numbers += num%10\n",
    "        num //= 10\n",
    "        \n",
    "    if sum_numbers % 7 == 0: \n",
    "        numbers_sum.append(cube_lst[i]) # список чисел, сумма цифр которых делится нацело на 7\n",
    "         \n",
    "    i+=1\n",
    "\n",
    "sum_num_7 = 0\n",
    "\n",
    "# сумма чисел, которые делятся нацело на 7\n",
    "for i in range(len(numbers_sum)):\n",
    "    sum_num_7 += numbers_sum[i]\n",
    "\n",
    "    \n",
    "\n",
    "    \n",
    "print(numbers_sum)\n",
    "print(sum_num_7)"
   ]
  },
  {
   "cell_type": "code",
   "execution_count": null,
   "id": "e71bd8fe",
   "metadata": {},
   "outputs": [],
   "source": []
  },
  {
   "cell_type": "code",
   "execution_count": null,
   "id": "acccf8d9",
   "metadata": {},
   "outputs": [],
   "source": []
  },
  {
   "cell_type": "code",
   "execution_count": null,
   "id": "00ea36ba",
   "metadata": {},
   "outputs": [],
   "source": []
  },
  {
   "cell_type": "code",
   "execution_count": null,
   "id": "aacb4bc8",
   "metadata": {},
   "outputs": [],
   "source": []
  },
  {
   "cell_type": "code",
   "execution_count": null,
   "id": "d5e0a97b",
   "metadata": {},
   "outputs": [],
   "source": []
  },
  {
   "cell_type": "code",
   "execution_count": null,
   "id": "67545d0a",
   "metadata": {},
   "outputs": [],
   "source": []
  },
  {
   "cell_type": "code",
   "execution_count": null,
   "id": "9bf0cef5",
   "metadata": {},
   "outputs": [],
   "source": []
  },
  {
   "cell_type": "code",
   "execution_count": null,
   "id": "b4153cf5",
   "metadata": {},
   "outputs": [],
   "source": []
  },
  {
   "cell_type": "code",
   "execution_count": null,
   "id": "28d6ff2a",
   "metadata": {},
   "outputs": [],
   "source": []
  },
  {
   "cell_type": "code",
   "execution_count": null,
   "id": "dcdf5ef8",
   "metadata": {},
   "outputs": [],
   "source": []
  },
  {
   "cell_type": "code",
   "execution_count": 65,
   "id": "8091526f",
   "metadata": {},
   "outputs": [
    {
     "data": {
      "text/plain": [
       "112"
      ]
     },
     "execution_count": 65,
     "metadata": {},
     "output_type": "execute_result"
    }
   ],
   "source": [
    "28*4"
   ]
  },
  {
   "cell_type": "code",
   "execution_count": null,
   "id": "7fab37c5",
   "metadata": {},
   "outputs": [],
   "source": []
  },
  {
   "cell_type": "code",
   "execution_count": null,
   "id": "9860ec8b",
   "metadata": {},
   "outputs": [],
   "source": []
  },
  {
   "cell_type": "code",
   "execution_count": null,
   "id": "a7d05551",
   "metadata": {},
   "outputs": [],
   "source": []
  },
  {
   "cell_type": "code",
   "execution_count": null,
   "id": "b1e029a7",
   "metadata": {},
   "outputs": [],
   "source": []
  },
  {
   "cell_type": "code",
   "execution_count": null,
   "id": "954adc59",
   "metadata": {},
   "outputs": [],
   "source": []
  },
  {
   "cell_type": "code",
   "execution_count": null,
   "id": "389134ec",
   "metadata": {},
   "outputs": [],
   "source": []
  },
  {
   "cell_type": "code",
   "execution_count": null,
   "id": "815481d9",
   "metadata": {},
   "outputs": [],
   "source": []
  },
  {
   "cell_type": "code",
   "execution_count": null,
   "id": "67b519d9",
   "metadata": {},
   "outputs": [],
   "source": []
  },
  {
   "cell_type": "code",
   "execution_count": null,
   "id": "047c8fc4",
   "metadata": {},
   "outputs": [],
   "source": []
  },
  {
   "cell_type": "code",
   "execution_count": null,
   "id": "b6e74f3a",
   "metadata": {},
   "outputs": [],
   "source": []
  },
  {
   "cell_type": "code",
   "execution_count": null,
   "id": "e53fb9e7",
   "metadata": {},
   "outputs": [],
   "source": []
  },
  {
   "cell_type": "code",
   "execution_count": null,
   "id": "5d45f573",
   "metadata": {},
   "outputs": [],
   "source": []
  },
  {
   "cell_type": "code",
   "execution_count": null,
   "id": "fd470c3e",
   "metadata": {},
   "outputs": [],
   "source": []
  },
  {
   "cell_type": "code",
   "execution_count": null,
   "id": "cf17615f",
   "metadata": {},
   "outputs": [],
   "source": []
  },
  {
   "cell_type": "code",
   "execution_count": null,
   "id": "a5a3cc21",
   "metadata": {},
   "outputs": [],
   "source": []
  },
  {
   "cell_type": "code",
   "execution_count": null,
   "id": "49f5e187",
   "metadata": {},
   "outputs": [],
   "source": []
  },
  {
   "cell_type": "code",
   "execution_count": null,
   "id": "80fab481",
   "metadata": {},
   "outputs": [],
   "source": []
  },
  {
   "cell_type": "code",
   "execution_count": null,
   "id": "90dbee49",
   "metadata": {},
   "outputs": [],
   "source": []
  },
  {
   "cell_type": "code",
   "execution_count": null,
   "id": "4ced5ef4",
   "metadata": {},
   "outputs": [],
   "source": []
  },
  {
   "cell_type": "code",
   "execution_count": null,
   "id": "ddd5c569",
   "metadata": {},
   "outputs": [],
   "source": []
  },
  {
   "cell_type": "code",
   "execution_count": null,
   "id": "7c31f459",
   "metadata": {},
   "outputs": [],
   "source": []
  },
  {
   "cell_type": "code",
   "execution_count": null,
   "id": "e07fffad",
   "metadata": {},
   "outputs": [],
   "source": []
  },
  {
   "cell_type": "code",
   "execution_count": null,
   "id": "c1a1a1cb",
   "metadata": {},
   "outputs": [],
   "source": []
  },
  {
   "cell_type": "code",
   "execution_count": null,
   "id": "e79dd351",
   "metadata": {},
   "outputs": [],
   "source": []
  },
  {
   "cell_type": "code",
   "execution_count": null,
   "id": "ace02fc2",
   "metadata": {},
   "outputs": [],
   "source": []
  },
  {
   "cell_type": "code",
   "execution_count": null,
   "id": "233d3b82",
   "metadata": {},
   "outputs": [],
   "source": []
  },
  {
   "cell_type": "code",
   "execution_count": null,
   "id": "c29b296c",
   "metadata": {},
   "outputs": [],
   "source": []
  },
  {
   "cell_type": "code",
   "execution_count": null,
   "id": "9c184887",
   "metadata": {},
   "outputs": [],
   "source": []
  },
  {
   "cell_type": "code",
   "execution_count": null,
   "id": "5d915004",
   "metadata": {},
   "outputs": [],
   "source": []
  },
  {
   "cell_type": "code",
   "execution_count": null,
   "id": "aaa96e9e",
   "metadata": {},
   "outputs": [],
   "source": []
  },
  {
   "cell_type": "code",
   "execution_count": null,
   "id": "db5b58f9",
   "metadata": {},
   "outputs": [],
   "source": []
  },
  {
   "cell_type": "code",
   "execution_count": null,
   "id": "6c23acb6",
   "metadata": {},
   "outputs": [],
   "source": []
  },
  {
   "cell_type": "code",
   "execution_count": null,
   "id": "5075b7d4",
   "metadata": {},
   "outputs": [],
   "source": []
  },
  {
   "cell_type": "code",
   "execution_count": null,
   "id": "0fd98fc8",
   "metadata": {},
   "outputs": [],
   "source": []
  },
  {
   "cell_type": "code",
   "execution_count": null,
   "id": "5e200555",
   "metadata": {},
   "outputs": [],
   "source": []
  },
  {
   "cell_type": "code",
   "execution_count": null,
   "id": "a8e1deb2",
   "metadata": {},
   "outputs": [],
   "source": []
  },
  {
   "cell_type": "code",
   "execution_count": null,
   "id": "c300c1a0",
   "metadata": {},
   "outputs": [],
   "source": []
  },
  {
   "cell_type": "code",
   "execution_count": null,
   "id": "bac83711",
   "metadata": {},
   "outputs": [],
   "source": []
  },
  {
   "cell_type": "code",
   "execution_count": null,
   "id": "4e93d204",
   "metadata": {},
   "outputs": [],
   "source": []
  },
  {
   "cell_type": "code",
   "execution_count": null,
   "id": "98012fb7",
   "metadata": {},
   "outputs": [],
   "source": []
  },
  {
   "cell_type": "code",
   "execution_count": null,
   "id": "8287abf2",
   "metadata": {},
   "outputs": [],
   "source": []
  },
  {
   "cell_type": "code",
   "execution_count": null,
   "id": "30bf1123",
   "metadata": {},
   "outputs": [],
   "source": []
  },
  {
   "cell_type": "code",
   "execution_count": null,
   "id": "871f6260",
   "metadata": {},
   "outputs": [],
   "source": []
  },
  {
   "cell_type": "code",
   "execution_count": null,
   "id": "52d3a698",
   "metadata": {},
   "outputs": [],
   "source": []
  },
  {
   "cell_type": "code",
   "execution_count": null,
   "id": "5f58035c",
   "metadata": {},
   "outputs": [],
   "source": []
  },
  {
   "cell_type": "code",
   "execution_count": null,
   "id": "00786c72",
   "metadata": {},
   "outputs": [],
   "source": []
  },
  {
   "cell_type": "code",
   "execution_count": 16,
   "id": "739f75df",
   "metadata": {},
   "outputs": [
    {
     "data": {
      "text/plain": [
       "range(1, 1001)"
      ]
     },
     "execution_count": 16,
     "metadata": {},
     "output_type": "execute_result"
    }
   ],
   "source": [
    "\n"
   ]
  },
  {
   "cell_type": "code",
   "execution_count": null,
   "id": "1f8c2cd7",
   "metadata": {},
   "outputs": [],
   "source": []
  },
  {
   "cell_type": "code",
   "execution_count": null,
   "id": "ab094384",
   "metadata": {},
   "outputs": [],
   "source": []
  },
  {
   "cell_type": "code",
   "execution_count": null,
   "id": "4720c7d9",
   "metadata": {},
   "outputs": [],
   "source": []
  },
  {
   "cell_type": "code",
   "execution_count": null,
   "id": "75bf9393",
   "metadata": {},
   "outputs": [],
   "source": []
  },
  {
   "cell_type": "code",
   "execution_count": null,
   "id": "8b0b894f",
   "metadata": {},
   "outputs": [],
   "source": []
  },
  {
   "cell_type": "code",
   "execution_count": null,
   "id": "25cb1b97",
   "metadata": {},
   "outputs": [],
   "source": []
  },
  {
   "cell_type": "code",
   "execution_count": null,
   "id": "eda1487f",
   "metadata": {},
   "outputs": [],
   "source": []
  },
  {
   "cell_type": "code",
   "execution_count": null,
   "id": "bd915800",
   "metadata": {},
   "outputs": [],
   "source": []
  },
  {
   "cell_type": "code",
   "execution_count": null,
   "id": "f9dab9de",
   "metadata": {},
   "outputs": [],
   "source": []
  },
  {
   "cell_type": "code",
   "execution_count": null,
   "id": "8416ba0c",
   "metadata": {},
   "outputs": [],
   "source": []
  },
  {
   "cell_type": "code",
   "execution_count": 3,
   "id": "dafae6fc",
   "metadata": {},
   "outputs": [
    {
     "data": {
      "text/plain": [
       "86400"
      ]
     },
     "execution_count": 3,
     "metadata": {},
     "output_type": "execute_result"
    }
   ],
   "source": [
    "3600*24"
   ]
  },
  {
   "cell_type": "code",
   "execution_count": null,
   "id": "50b80f6b",
   "metadata": {},
   "outputs": [],
   "source": []
  },
  {
   "cell_type": "code",
   "execution_count": null,
   "id": "73209b41",
   "metadata": {},
   "outputs": [],
   "source": []
  }
 ],
 "metadata": {
  "kernelspec": {
   "display_name": "Python 3",
   "language": "python",
   "name": "python3"
  },
  "language_info": {
   "codemirror_mode": {
    "name": "ipython",
    "version": 3
   },
   "file_extension": ".py",
   "mimetype": "text/x-python",
   "name": "python",
   "nbconvert_exporter": "python",
   "pygments_lexer": "ipython3",
   "version": "3.8.8"
  }
 },
 "nbformat": 4,
 "nbformat_minor": 5
}
